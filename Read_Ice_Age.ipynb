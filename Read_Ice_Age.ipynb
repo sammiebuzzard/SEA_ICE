{
 "cells": [
  {
   "cell_type": "code",
   "execution_count": 13,
   "metadata": {},
   "outputs": [],
   "source": [
    "#Code to read in NSIDC weekly ice age files\n",
    "#Downloaded from https://daacdata.apps.nsidc.org/pub/DATASETS/nsidc0611_seaice_age_v3/ with wget\n",
    "#S Buzzard 29/03/18\n",
    "\n",
    "import numpy as np\n",
    "\n",
    "\n",
    "filepath='/Volumes/n4_cpdata/scb/ICE_AGE/daacdata.apps.nsidc.org/pub/DATASETS/nsidc0611_seaice_age_v3/'\n",
    "ice_file=filepath+'data/2000/iceage.grid.week.2000.02.n.v3.bin'\n",
    "lats=np.fromfile(filepath+'Na12500-CF_latitude.dat',dtype=float)\n",
    "lons=np.fromfile(filepath+'Na12500-CF_longitude.dat',dtype=float)\n",
    "ice=np.fromfile(ice_file,dtype=float)\n",
    "\n",
